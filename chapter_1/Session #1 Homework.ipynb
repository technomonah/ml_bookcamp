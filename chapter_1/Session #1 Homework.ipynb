{
 "cells": [
  {
   "cell_type": "code",
   "execution_count": 2,
   "id": "4394b736",
   "metadata": {},
   "outputs": [],
   "source": [
    "import numpy as np\n",
    "import pandas as pd\n",
    "from numpy.linalg import inv"
   ]
  },
  {
   "cell_type": "markdown",
   "id": "f178c3a5",
   "metadata": {},
   "source": [
    "### Question 1"
   ]
  },
  {
   "cell_type": "code",
   "execution_count": 3,
   "id": "9ae12535",
   "metadata": {},
   "outputs": [
    {
     "data": {
      "text/plain": [
       "'1.21.5'"
      ]
     },
     "execution_count": 3,
     "metadata": {},
     "output_type": "execute_result"
    }
   ],
   "source": [
    "np.__version__"
   ]
  },
  {
   "cell_type": "markdown",
   "id": "9eeb91e0",
   "metadata": {},
   "source": [
    "### Getting the data"
   ]
  },
  {
   "cell_type": "code",
   "execution_count": 6,
   "id": "273af692",
   "metadata": {},
   "outputs": [
    {
     "name": "stdout",
     "output_type": "stream",
     "text": [
      "--2022-09-11 10:27:17--  https://raw.githubusercontent.com/alexeygrigorev/mlbookcamp-code/master/chapter-02-car-price/data.csv\n",
      "Распознаётся raw.githubusercontent.com (raw.githubusercontent.com)… 185.199.111.133, 185.199.110.133, 185.199.108.133, ...\n",
      "Подключение к raw.githubusercontent.com (raw.githubusercontent.com)|185.199.111.133|:443... соединение установлено.\n",
      "HTTP-запрос отправлен. Ожидание ответа… 200 OK\n",
      "Длина: 1475504 (1,4M) [text/plain]\n",
      "Сохранение в: ‘data.csv’\n",
      "\n",
      "data.csv            100%[===================>]   1,41M  1,97MB/s    за 0,7s    \n",
      "\n",
      "2022-09-11 10:27:22 (1,97 MB/s) - ‘data.csv’ сохранён [1475504/1475504]\n",
      "\n"
     ]
    }
   ],
   "source": [
    "!wget https://raw.githubusercontent.com/alexeygrigorev/mlbookcamp-code/master/chapter-02-car-price/data.csv"
   ]
  },
  {
   "cell_type": "markdown",
   "id": "e0bec748",
   "metadata": {},
   "source": [
    "### Question 2"
   ]
  },
  {
   "cell_type": "code",
   "execution_count": 4,
   "id": "90c2046d",
   "metadata": {},
   "outputs": [
    {
     "data": {
      "text/plain": [
       "11914"
      ]
     },
     "execution_count": 4,
     "metadata": {},
     "output_type": "execute_result"
    }
   ],
   "source": [
    "df = pd.read_csv('./data.csv')\n",
    "\n",
    "df.shape[0]"
   ]
  },
  {
   "cell_type": "markdown",
   "id": "4f0a90e6",
   "metadata": {},
   "source": [
    "### Question 3"
   ]
  },
  {
   "cell_type": "code",
   "execution_count": 46,
   "id": "0d733171",
   "metadata": {},
   "outputs": [
    {
     "data": {
      "text/html": [
       "<div>\n",
       "<style scoped>\n",
       "    .dataframe tbody tr th:only-of-type {\n",
       "        vertical-align: middle;\n",
       "    }\n",
       "\n",
       "    .dataframe tbody tr th {\n",
       "        vertical-align: top;\n",
       "    }\n",
       "\n",
       "    .dataframe thead th {\n",
       "        text-align: right;\n",
       "    }\n",
       "</style>\n",
       "<table border=\"1\" class=\"dataframe\">\n",
       "  <thead>\n",
       "    <tr style=\"text-align: right;\">\n",
       "      <th></th>\n",
       "      <th>Model</th>\n",
       "      <th>Year</th>\n",
       "      <th>Engine Fuel Type</th>\n",
       "      <th>Engine HP</th>\n",
       "      <th>Engine Cylinders</th>\n",
       "      <th>Transmission Type</th>\n",
       "      <th>Driven_Wheels</th>\n",
       "      <th>Number of Doors</th>\n",
       "      <th>Market Category</th>\n",
       "      <th>Vehicle Size</th>\n",
       "      <th>Vehicle Style</th>\n",
       "      <th>highway MPG</th>\n",
       "      <th>city mpg</th>\n",
       "      <th>Popularity</th>\n",
       "      <th>MSRP</th>\n",
       "    </tr>\n",
       "    <tr>\n",
       "      <th>Make</th>\n",
       "      <th></th>\n",
       "      <th></th>\n",
       "      <th></th>\n",
       "      <th></th>\n",
       "      <th></th>\n",
       "      <th></th>\n",
       "      <th></th>\n",
       "      <th></th>\n",
       "      <th></th>\n",
       "      <th></th>\n",
       "      <th></th>\n",
       "      <th></th>\n",
       "      <th></th>\n",
       "      <th></th>\n",
       "      <th></th>\n",
       "    </tr>\n",
       "  </thead>\n",
       "  <tbody>\n",
       "    <tr>\n",
       "      <th>Chevrolet</th>\n",
       "      <td>1123</td>\n",
       "      <td>1123</td>\n",
       "      <td>1123</td>\n",
       "      <td>1117</td>\n",
       "      <td>1121</td>\n",
       "      <td>1123</td>\n",
       "      <td>1123</td>\n",
       "      <td>1123</td>\n",
       "      <td>622</td>\n",
       "      <td>1123</td>\n",
       "      <td>1123</td>\n",
       "      <td>1123</td>\n",
       "      <td>1123</td>\n",
       "      <td>1123</td>\n",
       "      <td>1123</td>\n",
       "    </tr>\n",
       "    <tr>\n",
       "      <th>Ford</th>\n",
       "      <td>881</td>\n",
       "      <td>881</td>\n",
       "      <td>881</td>\n",
       "      <td>868</td>\n",
       "      <td>881</td>\n",
       "      <td>881</td>\n",
       "      <td>881</td>\n",
       "      <td>881</td>\n",
       "      <td>499</td>\n",
       "      <td>881</td>\n",
       "      <td>881</td>\n",
       "      <td>881</td>\n",
       "      <td>881</td>\n",
       "      <td>881</td>\n",
       "      <td>881</td>\n",
       "    </tr>\n",
       "    <tr>\n",
       "      <th>Volkswagen</th>\n",
       "      <td>809</td>\n",
       "      <td>809</td>\n",
       "      <td>809</td>\n",
       "      <td>809</td>\n",
       "      <td>805</td>\n",
       "      <td>809</td>\n",
       "      <td>809</td>\n",
       "      <td>809</td>\n",
       "      <td>585</td>\n",
       "      <td>809</td>\n",
       "      <td>809</td>\n",
       "      <td>809</td>\n",
       "      <td>809</td>\n",
       "      <td>809</td>\n",
       "      <td>809</td>\n",
       "    </tr>\n",
       "  </tbody>\n",
       "</table>\n",
       "</div>"
      ],
      "text/plain": [
       "            Model  Year  Engine Fuel Type  Engine HP  Engine Cylinders  \\\n",
       "Make                                                                     \n",
       "Chevrolet    1123  1123              1123       1117              1121   \n",
       "Ford          881   881               881        868               881   \n",
       "Volkswagen    809   809               809        809               805   \n",
       "\n",
       "            Transmission Type  Driven_Wheels  Number of Doors  \\\n",
       "Make                                                            \n",
       "Chevrolet                1123           1123             1123   \n",
       "Ford                      881            881              881   \n",
       "Volkswagen                809            809              809   \n",
       "\n",
       "            Market Category  Vehicle Size  Vehicle Style  highway MPG  \\\n",
       "Make                                                                    \n",
       "Chevrolet               622          1123           1123         1123   \n",
       "Ford                    499           881            881          881   \n",
       "Volkswagen              585           809            809          809   \n",
       "\n",
       "            city mpg  Popularity  MSRP  \n",
       "Make                                    \n",
       "Chevrolet       1123        1123  1123  \n",
       "Ford             881         881   881  \n",
       "Volkswagen       809         809   809  "
      ]
     },
     "execution_count": 46,
     "metadata": {},
     "output_type": "execute_result"
    }
   ],
   "source": [
    "df.groupby('Make').count().sort_values('Model',ascending = False).head(3)"
   ]
  },
  {
   "cell_type": "markdown",
   "id": "86395201",
   "metadata": {},
   "source": [
    "### Question 4"
   ]
  },
  {
   "cell_type": "code",
   "execution_count": 30,
   "id": "7727c7cb",
   "metadata": {},
   "outputs": [
    {
     "data": {
      "text/plain": [
       "34"
      ]
     },
     "execution_count": 30,
     "metadata": {},
     "output_type": "execute_result"
    }
   ],
   "source": [
    "audi_filt = df[df['Make'] == 'Audi']\n",
    "len(audi_filt['Model'].unique())"
   ]
  },
  {
   "cell_type": "markdown",
   "id": "871b3275",
   "metadata": {},
   "source": [
    "### Question 5"
   ]
  },
  {
   "cell_type": "code",
   "execution_count": 35,
   "id": "0a4b99ef",
   "metadata": {},
   "outputs": [
    {
     "data": {
      "text/plain": [
       "Make                    0\n",
       "Model                   0\n",
       "Year                    0\n",
       "Engine Fuel Type        3\n",
       "Engine HP              69\n",
       "Engine Cylinders       30\n",
       "Transmission Type       0\n",
       "Driven_Wheels           0\n",
       "Number of Doors         6\n",
       "Market Category      3742\n",
       "Vehicle Size            0\n",
       "Vehicle Style           0\n",
       "highway MPG             0\n",
       "city mpg                0\n",
       "Popularity              0\n",
       "MSRP                    0\n",
       "dtype: int64"
      ]
     },
     "execution_count": 35,
     "metadata": {},
     "output_type": "execute_result"
    }
   ],
   "source": [
    "df.isnull().sum()"
   ]
  },
  {
   "cell_type": "markdown",
   "id": "5730ab95",
   "metadata": {},
   "source": [
    "### Question 6"
   ]
  },
  {
   "cell_type": "code",
   "execution_count": 43,
   "id": "ba95a902",
   "metadata": {},
   "outputs": [
    {
     "data": {
      "text/plain": [
       "0.0"
      ]
     },
     "execution_count": 43,
     "metadata": {},
     "output_type": "execute_result"
    }
   ],
   "source": [
    "median_before = df['Engine Cylinders'].median()\n",
    "mode = df['Engine Cylinders'].mode()\n",
    "median_after = df['Engine Cylinders'].fillna(mode).median()\n",
    "\n",
    "median_after - median_before"
   ]
  },
  {
   "cell_type": "markdown",
   "id": "a5e2565f",
   "metadata": {},
   "source": [
    "### Question 7"
   ]
  },
  {
   "cell_type": "code",
   "execution_count": 25,
   "id": "4f279d69",
   "metadata": {},
   "outputs": [
    {
     "name": "stdout",
     "output_type": "stream",
     "text": [
      "[  4.59494481 -63.56432501]\n"
     ]
    }
   ],
   "source": [
    "lotus_df = df[df['Make'] == 'Lotus'][['Engine HP','Engine Cylinders']]\n",
    "lotus_df.drop_duplicates(inplace=True)\n",
    "\n",
    "x = lotus_df.values\n",
    "XTX = x.T.dot(x)\n",
    "XTX_inv = inv(XTX)\n",
    "\n",
    "y = np.array([1100, 800, 750, 850, 1300, 1000, 1000, 1300, 800])\n",
    "\n",
    "w = (XTX_inv.dot(x.T)).dot(y)\n",
    "\n",
    "print(w)"
   ]
  },
  {
   "cell_type": "code",
   "execution_count": null,
   "id": "b399c976",
   "metadata": {},
   "outputs": [],
   "source": []
  }
 ],
 "metadata": {
  "kernelspec": {
   "display_name": "Python 3 (ipykernel)",
   "language": "python",
   "name": "python3"
  },
  "language_info": {
   "codemirror_mode": {
    "name": "ipython",
    "version": 3
   },
   "file_extension": ".py",
   "mimetype": "text/x-python",
   "name": "python",
   "nbconvert_exporter": "python",
   "pygments_lexer": "ipython3",
   "version": "3.9.13"
  }
 },
 "nbformat": 4,
 "nbformat_minor": 5
}
